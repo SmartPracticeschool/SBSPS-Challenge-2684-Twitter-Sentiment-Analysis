{
  "nbformat": 4,
  "nbformat_minor": 0,
  "metadata": {
    "kernelspec": {
      "display_name": "Python 3",
      "language": "python",
      "name": "python3"
    },
    "language_info": {
      "codemirror_mode": {
        "name": "ipython",
        "version": 3
      },
      "file_extension": ".py",
      "mimetype": "text/x-python",
      "name": "python",
      "nbconvert_exporter": "python",
      "pygments_lexer": "ipython3",
      "version": "3.8.3"
    },
    "varInspector": {
      "cols": {
        "lenName": 16,
        "lenType": 16,
        "lenVar": 40
      },
      "kernels_config": {
        "python": {
          "delete_cmd_postfix": "",
          "delete_cmd_prefix": "del ",
          "library": "var_list.py",
          "varRefreshCmd": "print(var_dic_list())"
        },
        "r": {
          "delete_cmd_postfix": ") ",
          "delete_cmd_prefix": "rm(",
          "library": "var_list.r",
          "varRefreshCmd": "cat(var_dic_list()) "
        }
      },
      "types_to_exclude": [
        "module",
        "function",
        "builtin_function_or_method",
        "instance",
        "_Feature"
      ],
      "window_display": false
    },
    "colab": {
      "name": "Data_Collection (2).ipynb",
      "provenance": []
    }
  },
  "cells": [
    {
      "cell_type": "code",
      "metadata": {
        "id": "83gxiiZE-2Ca",
        "colab_type": "code",
        "colab": {
          "base_uri": "https://localhost:8080/",
          "height": 168
        },
        "outputId": "02481ff3-28c2-4e04-f928-eee01282f898"
      },
      "source": [
        "pip install GetOldTweets3"
      ],
      "execution_count": null,
      "outputs": [
        {
          "output_type": "stream",
          "text": [
            "Collecting GetOldTweets3\n",
            "  Downloading https://files.pythonhosted.org/packages/ed/f4/a00c2a7c90801abc875325bb5416ce9090ac86d06a00cc887131bd73ba45/GetOldTweets3-0.0.11-py3-none-any.whl\n",
            "Requirement already satisfied: lxml>=3.5.0 in /usr/local/lib/python3.6/dist-packages (from GetOldTweets3) (4.2.6)\n",
            "Collecting pyquery>=1.2.10\n",
            "  Downloading https://files.pythonhosted.org/packages/78/43/95d42e386c61cb639d1a0b94f0c0b9f0b7d6b981ad3c043a836c8b5bc68b/pyquery-1.4.1-py2.py3-none-any.whl\n",
            "Collecting cssselect>0.7.9\n",
            "  Downloading https://files.pythonhosted.org/packages/3b/d4/3b5c17f00cce85b9a1e6f91096e1cc8e8ede2e1be8e96b87ce1ed09e92c5/cssselect-1.1.0-py2.py3-none-any.whl\n",
            "Installing collected packages: cssselect, pyquery, GetOldTweets3\n",
            "Successfully installed GetOldTweets3-0.0.11 cssselect-1.1.0 pyquery-1.4.1\n"
          ],
          "name": "stdout"
        }
      ]
    },
    {
      "cell_type": "code",
      "metadata": {
        "id": "Ncq_Qpqq9iFd",
        "colab_type": "code",
        "colab": {}
      },
      "source": [
        "import GetOldTweets3 as got\n",
        "import csv\n",
        "from textblob import TextBlob"
      ],
      "execution_count": null,
      "outputs": []
    },
    {
      "cell_type": "markdown",
      "metadata": {
        "id": "XfskYMIc9iFw",
        "colab_type": "text"
      },
      "source": [
        "# Getting the  tweets using query search"
      ]
    },
    {
      "cell_type": "code",
      "metadata": {
        "id": "JEJohxYt9iFy",
        "colab_type": "code",
        "colab": {}
      },
      "source": [
        "tweetCriteria = got.manager.TweetCriteria().setQuerySearch('corona covid-19')\\\n",
        "                                           .setSince(\"2020-05-01\")\\\n",
        "                                           .setUntil(\"2020-06-06\")\\\n",
        "                                           .setLang(\"en\")\\\n",
        "                                           .setMaxTweets(2000)\n",
        "tweets = got.manager.TweetManager.getTweets(tweetCriteria)\n",
        "text_tweet = [[tweet.text] for tweet in tweets]"
      ],
      "execution_count": null,
      "outputs": []
    },
    {
      "cell_type": "code",
      "metadata": {
        "id": "eK8IKW5a9iF8",
        "colab_type": "code",
        "colab": {}
      },
      "source": [
        "tweetCriteria_1 = got.manager.TweetCriteria().setQuerySearch('government lockdown')\\\n",
        "                                           .setSince(\"2020-05-01\")\\\n",
        "                                           .setUntil(\"2020-06-06\")\\\n",
        "                                           .setNear(\"Nagpur\")\\\n",
        "                                           .setWithin(\"1100mi\")\\\n",
        "                                           .setLang('en')\\\n",
        "                                           .setMaxTweets(2000)\n",
        "tweets_1 = got.manager.TweetManager.getTweets(tweetCriteria_1)\n",
        "text_tweet_1 = [[tweet.text] for tweet in tweets_1]"
      ],
      "execution_count": null,
      "outputs": []
    },
    {
      "cell_type": "markdown",
      "metadata": {
        "id": "cJSPWiFD9iGF",
        "colab_type": "text"
      },
      "source": [
        "# Creating our dataset"
      ]
    },
    {
      "cell_type": "code",
      "metadata": {
        "id": "gvTVSDRW9iGH",
        "colab_type": "code",
        "colab": {
          "base_uri": "https://localhost:8080/",
          "height": 50
        },
        "outputId": "e45db048-4b15-45c2-fb09-90af6f7afcea"
      },
      "source": [
        "# opening the csv file in 'w' mode \n",
        "flatten_list = [j for sub in text_tweet for j in sub] \n",
        "flatten_list_1=[j for sub in text_tweet_1 for j in sub]\n",
        "print(len(flatten_list))\n",
        "print(len(flatten_list_1))\n",
        "file = open('tweet_dataset.csv', 'w', newline ='',encoding=\"utf-8\") #We have included utf-8 to represent unicode present in the text\n",
        "with file: \n",
        "    # identifying header \n",
        "    header = ['Tweets','Polarity','Tweets1','Polarity1'] \n",
        "    x,y=0,0\n",
        "    writer = csv.DictWriter(file, fieldnames = header) \n",
        "    # writing data row-wise into the csv file \n",
        "    writer.writeheader() \n",
        "    for i in range(0,2000):\n",
        "        flatten_list_1[i]=str(TextBlob(flatten_list_1[i]).correct())\n",
        "        review_1=TextBlob(flatten_list[i])\n",
        "        review_2=TextBlob(flatten_list_1[i])\n",
        "        x=review_1.sentiment.polarity\n",
        "        y=review_2.sentiment.polarity\n",
        "        writer.writerow({'Tweets':flatten_list[i],'Polarity':x,'Tweets1':flatten_list_1[i],'Polarity1':y}) #Polarity is used to check whether the given text is positive or negative"
      ],
      "execution_count": null,
      "outputs": [
        {
          "output_type": "stream",
          "text": [
            "2000\n",
            "2000\n"
          ],
          "name": "stdout"
        }
      ]
    },
    {
      "cell_type": "code",
      "metadata": {
        "id": "HJtvfWSc9iGU",
        "colab_type": "code",
        "colab": {}
      },
      "source": [
        ""
      ],
      "execution_count": null,
      "outputs": []
    }
  ]
}